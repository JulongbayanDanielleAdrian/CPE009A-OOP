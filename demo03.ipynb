{
  "nbformat": 4,
  "nbformat_minor": 0,
  "metadata": {
    "colab": {
      "provenance": [],
      "authorship_tag": "ABX9TyNHvwg8ShbvOTdmzTcyM+SR",
      "include_colab_link": true
    },
    "kernelspec": {
      "name": "python3",
      "display_name": "Python 3"
    },
    "language_info": {
      "name": "python"
    }
  },
  "cells": [
    {
      "cell_type": "markdown",
      "metadata": {
        "id": "view-in-github",
        "colab_type": "text"
      },
      "source": [
        "<a href=\"https://colab.research.google.com/github/qdaajulongbayan01/CPE009A-OOP/blob/main/demo03.ipynb\" target=\"_parent\"><img src=\"https://colab.research.google.com/assets/colab-badge.svg\" alt=\"Open In Colab\"/></a>"
      ]
    },
    {
      "cell_type": "markdown",
      "source": [
        "# **Conditional Statement in Python**"
      ],
      "metadata": {
        "id": "FiTUIcDrNBRD"
      }
    },
    {
      "cell_type": "markdown",
      "source": [
        "# Introduction\n"
      ],
      "metadata": {
        "id": "wXFYHULtNVni"
      }
    },
    {
      "cell_type": "markdown",
      "source": [
        "\n",
        "Conditional statements execute sequentially when there is no condition ...\n",
        "\n",
        "**Control Structure**\n",
        "- is a block of programming ...\n",
        "\n",
        "**Logical Conditions from Mathematics**\n",
        "- Equal to :==\n",
        "- Not Equal to: !=\n",
        "- Less Than: <\n",
        "- Less Than or Equal to: <=\n",
        "- Greater Than: >\n",
        "- Greater Than or Equal to: >=\n"
      ],
      "metadata": {
        "id": "j6_w02GMOQgy"
      }
    },
    {
      "cell_type": "markdown",
      "source": [
        "\n",
        "# 1. If Statement\n",
        "\n",
        "< declaration of variables >\n",
        "\n",
        "if condition:\n",
        "\n",
        " block of statements\n",
        "\n",
        "Example:"
      ],
      "metadata": {
        "id": "-mC06VQwOiqK"
      }
    },
    {
      "cell_type": "code",
      "execution_count": 1,
      "metadata": {
        "colab": {
          "base_uri": "https://localhost:8080/"
        },
        "id": "7iOQVMY6M_5M",
        "outputId": "7ca7c3ec-56eb-430f-d121-a327f7d6f692"
      },
      "outputs": [
        {
          "output_type": "stream",
          "name": "stdout",
          "text": [
            "a and b are equal\n"
          ]
        }
      ],
      "source": [
        "a=12\n",
        "b=12\n",
        "if b>a:\n",
        "  print(\"b is greather than a\")\n",
        "elif a==b:\n",
        "  print(\"a and b are equal\")"
      ]
    },
    {
      "cell_type": "markdown",
      "source": [
        "# 2. Elif Statement"
      ],
      "metadata": {
        "id": "LK0rBzrcOq1S"
      }
    }
  ]
}