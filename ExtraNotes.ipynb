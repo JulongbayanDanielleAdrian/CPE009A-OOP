{
  "nbformat": 4,
  "nbformat_minor": 0,
  "metadata": {
    "colab": {
      "provenance": [],
      "authorship_tag": "ABX9TyO8mFBGgWxUq89uvGoE7Yef",
      "include_colab_link": true
    },
    "kernelspec": {
      "name": "python3",
      "display_name": "Python 3"
    },
    "language_info": {
      "name": "python"
    }
  },
  "cells": [
    {
      "cell_type": "markdown",
      "metadata": {
        "id": "view-in-github",
        "colab_type": "text"
      },
      "source": [
        "<a href=\"https://colab.research.google.com/github/qdaajulongbayan01/CPE009A-OOP/blob/main/ExtraNotes.ipynb\" target=\"_parent\"><img src=\"https://colab.research.google.com/assets/colab-badge.svg\" alt=\"Open In Colab\"/></a>"
      ]
    },
    {
      "cell_type": "markdown",
      "source": [
        "# Object-Oriented Programming\n",
        "\n",
        "- An object is anything that can be represented by data."
      ],
      "metadata": {
        "id": "Nw9W_-aZZHBy"
      }
    },
    {
      "cell_type": "markdown",
      "source": [
        "## Programming Languages\n",
        "\n",
        "- A **programming language** is a computer language programmers use to deelop software programs, scripts, or other sets of instructions for computers to execute."
      ],
      "metadata": {
        "id": "XF1FBj85ZMO0"
      }
    },
    {
      "cell_type": "markdown",
      "source": [
        "### Structure of Programming Languages\n",
        "\n",
        "- **Data Structure** - data types, data elements, operations, built in libraries\n",
        "\n",
        "- **Program Structure** - textual units that make up the program, statements and subprograms\n",
        "\n",
        "- **Control Structure** - expressions, conditional expressions, looping statements"
      ],
      "metadata": {
        "id": "ohRUBqGsZbEE"
      }
    },
    {
      "cell_type": "markdown",
      "source": [
        "### Levels of Programming Language\n",
        "\n",
        "- Machine Language\n",
        "- Assemby Language\n",
        "- High level Language"
      ],
      "metadata": {
        "id": "pVgKTIfpZs-m"
      }
    },
    {
      "cell_type": "markdown",
      "source": [
        "#### Machine Language\n",
        "\n",
        "- The fundamental language of the computer's processor, also called *Low Level Language*.\n",
        "- All programs are converted into machine language vefore they can be executed.\n",
        "- Consists of combinations of 0's and 1's that represent high and low electrical voltage."
      ],
      "metadata": {
        "id": "EKOURmT0Z4Al"
      }
    },
    {
      "cell_type": "markdown",
      "source": [
        "#### Assembly Language\n",
        "\n",
        "- A low level language that is similar to machine language.\n",
        "- Uses *symbolic* operation code to represent the machine operation code."
      ],
      "metadata": {
        "id": "MtHoEcV0aF6k"
      }
    },
    {
      "cell_type": "markdown",
      "source": [
        "#### High Level Language\n",
        "\n",
        "- Computer (programming) languages that are easier to learn.\n",
        "- Uses English like statements.\n",
        "- Examples are C++, C#, Visual Basic, Pascal, Fortran, and ..."
      ],
      "metadata": {
        "id": "pxf0YAWcaO1E"
      }
    },
    {
      "cell_type": "markdown",
      "source": [
        "## What is OO?\n",
        "\n",
        "- Object Orientation is an approach to software development that organizes both the problem and its solution as a collection of discrete objects. Both data structure and behavior are included in the representation."
      ],
      "metadata": {
        "id": "8AstKOhDadAE"
      }
    },
    {
      "cell_type": "markdown",
      "source": [
        "### Object-Oriented Programming\n",
        "\n",
        "- It refers to a type of computer programming (software design) in which programmers define the data type of a data structure, and also the types of operations (functions) that can be applied to the data structure."
      ],
      "metadata": {
        "id": "b0mwRiOrap68"
      }
    },
    {
      "cell_type": "markdown",
      "source": [
        "#### Basic OOP Concepts\n",
        "\n",
        "- An ***object*** is anything that can be represented by data in a computer's memory and manipulated by a computer program."
      ],
      "metadata": {
        "id": "1so0oYcta4Qt"
      }
    },
    {
      "cell_type": "markdown",
      "source": [
        "#### Identity\n",
        "\n",
        "- Refers to the fact that the data are organized into discrete, distinguishable entities called objects. A single object has states and behaviors associated with it. For example, if you are developing a system, this may be the object. It may have several states - open system or a closed system."
      ],
      "metadata": {
        "id": "QPpBIRvMbVYD"
      }
    },
    {
      "cell_type": "markdown",
      "source": [
        "## What is an Object?\n",
        "\n",
        "- An object is an instance of a class\n",
        "- Objects have the following qualities:\n",
        "  - Identity: Objects are distinguishable from one another\n",
        "  - Bechavior: Objects can perform tasks\n",
        "  - State: Objects store information that can vary over time\n",
        "\n",
        " An object can be something in the physical world or even just an abstract idea. A bank transaction is an example of an object that is not physical.\n",
        "\n",
        " The data that represent the object are organized into a set of ***properties***.\n",
        "\n",
        " The values stored in an object's properties at any one time form the ***state*** of an object.\n",
        "\n",
        "\n",
        " ***The Two Parts of an Object***\n",
        "\n",
        "-- **Object = Data + Methods** --"
      ],
      "metadata": {
        "id": "JoVZ4_GMcDu0"
      }
    },
    {
      "cell_type": "markdown",
      "source": [
        "## What is a Class?\n",
        "\n",
        "- A ***class*** is a group of objects with the same properties and the same methods (behavior)\n",
        "\n",
        "We can think of an object as a collection of properties and the methods that arue used to manipulate those properties."
      ],
      "metadata": {
        "id": "lReZDJQodT9L"
      }
    },
    {
      "cell_type": "markdown",
      "source": [
        "## What is Inheritance?\n",
        "\n",
        "- Inheritance specifies a \"is-a-kind-of\" relationship\n",
        "- Multiple classes share the same attributes and operations, allowing efficient code ruse\n",
        "\n",
        "- **Single Inheritance** exists when a class has only one immediate (parent) superclass above it.\n",
        "\n",
        "- **Multiple Inheritance** allow a class to be derived from several parent superclasses above that class."
      ],
      "metadata": {
        "id": "vAIYkm9PdkYk"
      }
    },
    {
      "cell_type": "markdown",
      "source": [
        "## What is Polymorphism?\n",
        "\n",
        "- From the name itself, it means many and forms.\n",
        "\n",
        "- Polymorphism is the method of recycling a block of code and changing it to another form.\n",
        "\n",
        "There are several ways to perform polymorphism.\n",
        "- Polymorphism with class methods\n",
        "- Polymorphism with Inheritance\n",
        "- Polymorphism with a Function and Objects"
      ],
      "metadata": {
        "id": "oFM-EFxQeFeP"
      }
    },
    {
      "cell_type": "markdown",
      "source": [
        "## What is Abstraction?\n",
        "\n",
        "- It is the ***concealing*** how something works. Imagine buying a new Plash SPeed 5, inside the package is a manial how to operate the Plash Speed 5. It explains how you can use the Plash Speed but it doesn't explain how the Plash Speed works internally. Likewise, abstraction is the ***hiding*** of the ***actual implementation*** of codes. This can be done by using ***abstract classes*** or ***abstract methods***."
      ],
      "metadata": {
        "id": "w-nMVsdJesw3"
      }
    },
    {
      "cell_type": "markdown",
      "source": [
        "## Abstraction and Encapsulation\n",
        "\n",
        "- A ***class*** is a blueprint that describes an object and defines attributes and operations for the object.\n",
        "- Classes use ***abstraction*** to make available only the elements essential to defining the object.\n",
        "- Classes use ***encapsulation*** to enforce an abstraction."
      ],
      "metadata": {
        "id": "YDjcQOaTesvq"
      }
    },
    {
      "cell_type": "markdown",
      "source": [
        "## What is Encapsulation?\n",
        "\n",
        "- If abstraction is hiding the internal implementation of codes, encapsulation protects the integrity of data inside the program. It restricts the modification of the values of the variables / field / member by restrictiong the access on the variables."
      ],
      "metadata": {
        "id": "jc_Ke-tygClt"
      }
    },
    {
      "cell_type": "markdown",
      "source": [
        "## OO Coding and Testing\n",
        "\n",
        "- Once the program design is done, the system is describes at a very low level, using models of objects, attributes, and behaviors. Coding proceeds by translating the models to an OO programming language."
      ],
      "metadata": {
        "id": "U0zgRQGngr98"
      }
    },
    {
      "cell_type": "markdown",
      "source": [
        "## USE CASES\n",
        "\n",
        "- To develop a system using an object-oriented approach, it is useful to elicit requirements and describe tehm with a technique known as use cases. A use case describes particular functionality that a system is supposed to perform or exhibit by modeling the dialog that a user, external system, or other entity will have with the system to be developed.\n",
        "\n",
        "- Each USE CASE describes a possible scenario of how the external entity interacts with the system. Often, the USE CASE is presented as a drawing of the objects involved, plus a short textual sketch (scenario script) of how the function is performd. It identifies all the events that can occur."
      ],
      "metadata": {
        "id": "jemZ8_f3g66D"
      }
    }
  ]
}