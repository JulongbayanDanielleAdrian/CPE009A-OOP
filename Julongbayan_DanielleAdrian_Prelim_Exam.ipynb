{
  "nbformat": 4,
  "nbformat_minor": 0,
  "metadata": {
    "colab": {
      "provenance": [],
      "authorship_tag": "ABX9TyOGX+7Lgia1sKaYv6oIl9ll",
      "include_colab_link": true
    },
    "kernelspec": {
      "name": "python3",
      "display_name": "Python 3"
    },
    "language_info": {
      "name": "python"
    }
  },
  "cells": [
    {
      "cell_type": "markdown",
      "metadata": {
        "id": "view-in-github",
        "colab_type": "text"
      },
      "source": [
        "<a href=\"https://colab.research.google.com/github/qdaajulongbayan01/CPE009A-OOP/blob/main/Julongbayan_DanielleAdrian_Prelim_Exam.ipynb\" target=\"_parent\"><img src=\"https://colab.research.google.com/assets/colab-badge.svg\" alt=\"Open In Colab\"/></a>"
      ]
    },
    {
      "cell_type": "code",
      "execution_count": 4,
      "metadata": {
        "colab": {
          "base_uri": "https://localhost:8080/"
        },
        "id": "ry8KZ2h7Q5a2",
        "outputId": "a16dbcd6-249e-4a53-daa0-c145832651bc"
      },
      "outputs": [
        {
          "output_type": "stream",
          "name": "stdout",
          "text": [
            "0\n"
          ]
        }
      ],
      "source": [
        "x = 4 % 2 # test\n",
        "print(x)"
      ]
    },
    {
      "cell_type": "code",
      "source": [
        "x=0\n",
        "a=5\n",
        "b=5\n",
        "if a>0:\n",
        "  if b<0:\n",
        "    x=x+5\n",
        "  elif a>5:\n",
        "    x=x+4\n",
        "  else:\n",
        "    x=x+2\n",
        "  print(x)"
      ],
      "metadata": {
        "colab": {
          "base_uri": "https://localhost:8080/"
        },
        "id": "WZdasuq7pd-9",
        "outputId": "35c357d7-8246-4203-def7-af1f0266b052"
      },
      "execution_count": 5,
      "outputs": [
        {
          "output_type": "stream",
          "name": "stdout",
          "text": [
            "2\n"
          ]
        }
      ]
    },
    {
      "cell_type": "code",
      "source": [
        "a, b = 12, 5\n",
        "if a+b:\n",
        "  print('True')\n",
        "else:\n",
        "  print('False')"
      ],
      "metadata": {
        "colab": {
          "base_uri": "https://localhost:8080/"
        },
        "id": "bLWuG9Clp8le",
        "outputId": "b947951a-418d-408c-cbad-23d8d112a2c3"
      },
      "execution_count": 6,
      "outputs": [
        {
          "output_type": "stream",
          "name": "stdout",
          "text": [
            "True\n"
          ]
        }
      ]
    },
    {
      "cell_type": "code",
      "source": [
        "x=2**(3**2)\n",
        "y=(2**3)**2\n",
        "z=2**3**2\n",
        "print(str(x) + \",\"+ str(y) + \",\"+ str(z))"
      ],
      "metadata": {
        "colab": {
          "base_uri": "https://localhost:8080/"
        },
        "id": "My2TTz7-qZmO",
        "outputId": "1a18d4f0-717e-462f-fdd9-cab1c68775b0"
      },
      "execution_count": 9,
      "outputs": [
        {
          "output_type": "stream",
          "name": "stdout",
          "text": [
            "512,64,512\n"
          ]
        }
      ]
    },
    {
      "cell_type": "code",
      "source": [
        "a=33\n",
        "b=33\n",
        "if b>a:\n",
        "  print(\"b is greater than a\")\n",
        "elif a==b:\n",
        "  print(\"a and b are equal\")"
      ],
      "metadata": {
        "colab": {
          "base_uri": "https://localhost:8080/"
        },
        "id": "cKn0Zh63rCLt",
        "outputId": "6aaeb5bc-9119-41f6-d47d-b2a039b1ccdb"
      },
      "execution_count": 11,
      "outputs": [
        {
          "output_type": "stream",
          "name": "stdout",
          "text": [
            "a and b are equal\n"
          ]
        }
      ]
    },
    {
      "cell_type": "code",
      "source": [
        "A=5\n",
        "a=6\n",
        "print(A)\n",
        "print(a)"
      ],
      "metadata": {
        "colab": {
          "base_uri": "https://localhost:8080/"
        },
        "id": "Nf_YUHiUrKql",
        "outputId": "3b87ff3f-1a3b-4021-e7df-0f819d195b73"
      },
      "execution_count": 12,
      "outputs": [
        {
          "output_type": "stream",
          "name": "stdout",
          "text": [
            "5\n",
            "6\n"
          ]
        }
      ]
    },
    {
      "cell_type": "code",
      "source": [
        "bool\n",
        "float\n",
        "int\n",
        "character"
      ],
      "metadata": {
        "id": "ELIJVcrrsakt"
      },
      "execution_count": null,
      "outputs": []
    },
    {
      "cell_type": "code",
      "source": [
        "fullname=input(\"Enter your fullname:\")\n",
        "age=input(\"Enter your age:\")\n",
        "print(\"Fullname and age: \"+fullname+\" \"+ \"and\"+ \" \"+age)"
      ],
      "metadata": {
        "colab": {
          "base_uri": "https://localhost:8080/"
        },
        "id": "ET968D1BtEkP",
        "outputId": "83b437fe-9bde-468c-e0d4-0f52ba377e01"
      },
      "execution_count": 17,
      "outputs": [
        {
          "output_type": "stream",
          "name": "stdout",
          "text": [
            "Enter your fullname:Julongbayan, Danielle Adrian\n",
            "Enter your age:20\n",
            "Fullname and age: Julongbayan, Danielle Adrian and 20\n"
          ]
        }
      ]
    }
  ]
}