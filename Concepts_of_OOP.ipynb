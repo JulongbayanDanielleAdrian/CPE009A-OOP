{
  "nbformat": 4,
  "nbformat_minor": 0,
  "metadata": {
    "colab": {
      "provenance": [],
      "authorship_tag": "ABX9TyOv/lBKnG7yQU5TEsJQarVD",
      "include_colab_link": true
    },
    "kernelspec": {
      "name": "python3",
      "display_name": "Python 3"
    },
    "language_info": {
      "name": "python"
    }
  },
  "cells": [
    {
      "cell_type": "markdown",
      "metadata": {
        "id": "view-in-github",
        "colab_type": "text"
      },
      "source": [
        "<a href=\"https://colab.research.google.com/github/qdaajulongbayan01/CPE009A-OOP/blob/main/Concepts_of_OOP.ipynb\" target=\"_parent\"><img src=\"https://colab.research.google.com/assets/colab-badge.svg\" alt=\"Open In Colab\"/></a>"
      ]
    },
    {
      "cell_type": "markdown",
      "source": [
        "# What is Object-Oriented Programming?\n",
        "\n",
        "- The goal of Object-Oriented Programming (OOP) is to create \"objects\". An object is a collection of variables and functions that are linked together."
      ],
      "metadata": {
        "id": "R0UKoxDNiFfb"
      }
    },
    {
      "cell_type": "markdown",
      "source": [
        "POP vs OOP"
      ],
      "metadata": {
        "id": "FBy4fhtYiZSa"
      }
    },
    {
      "cell_type": "markdown",
      "source": [],
      "metadata": {
        "id": "_3OmgsG7iZRK"
      }
    },
    {
      "cell_type": "markdown",
      "source": [
        "## Class\n",
        "\n",
        "- A class is a collection of objects. These are data structures that the user defines."
      ],
      "metadata": {
        "id": "4Qwr0ugoh-fr"
      }
    },
    {
      "cell_type": "code",
      "execution_count": 1,
      "metadata": {
        "id": "hZFhqvUhhlM2"
      },
      "outputs": [],
      "source": [
        "class Car:\n",
        "  pass"
      ]
    },
    {
      "cell_type": "markdown",
      "source": [
        "## Objects and Object Instantiation\n",
        "\n",
        "- The objector instance contains real data or information.\n",
        "\n",
        "- Instantiation is nothing but creating a new object or instance of a class."
      ],
      "metadata": {
        "id": "_zQ2HhlCidha"
      }
    },
    {
      "cell_type": "code",
      "source": [
        "obj1=Car()\n",
        "print(obj1)"
      ],
      "metadata": {
        "colab": {
          "base_uri": "https://localhost:8080/"
        },
        "id": "Git2P8a_inC6",
        "outputId": "fc99ff81-0775-4fe6-da28-cc3aa4197990"
      },
      "execution_count": 2,
      "outputs": [
        {
          "output_type": "stream",
          "name": "stdout",
          "text": [
            "<__main__.Car object at 0x7d5b3c62f1c0>\n"
          ]
        }
      ]
    },
    {
      "cell_type": "markdown",
      "source": [
        "## Class Constructor\n",
        "\n",
        "- Now we have an empty class Car, time to fill up our class with the properties of the car. The job of the class constructor is to assign the values to the data members of the class when an object of the class is created."
      ],
      "metadata": {
        "id": "XeiuM9v2is0J"
      }
    },
    {
      "cell_type": "code",
      "source": [
        "class Car:\n",
        "  def __init__(self, name, color):\n",
        "    self.name=name\n",
        "    self.color=color"
      ],
      "metadata": {
        "id": "vFL7s7vli9fW"
      },
      "execution_count": 4,
      "outputs": []
    },
    {
      "cell_type": "markdown",
      "source": [
        "## Class Methods\n",
        "\n",
        "- Methods are the functions that we use to describe the behavior of the objects. They are also defined inside a class."
      ],
      "metadata": {
        "id": "BdM9cCqpjHfq"
      }
    },
    {
      "cell_type": "markdown",
      "source": [
        "## Example"
      ],
      "metadata": {
        "id": "hZ4J-PtIjs7C"
      }
    },
    {
      "cell_type": "code",
      "source": [
        "class Car:\n",
        "  car_type=\"Sedan\"\n",
        "\n",
        "  def __init__(self, name, mileage):\n",
        "    self.name = name\n",
        "    self.mileage = mileage\n",
        "\n",
        "  def description(self):\n",
        "    return \"The \"+str(self.name)+\" car gives the mileage of \"+str(self.mileage)+\"km/l\"\n",
        "\n",
        "  def max_speed(self, speed):\n",
        "    return \"The \"+str(self.name)+\" runs at the maximum speed of \"+str(speed)+\"km/hr\"\n",
        "\n",
        "obj2 = Car(\"Honda City\",24.1)\n",
        "print(obj2.description())\n",
        "print(obj2.max_speed(150))"
      ],
      "metadata": {
        "colab": {
          "base_uri": "https://localhost:8080/"
        },
        "id": "fXMwRx2TjrYC",
        "outputId": "cb553506-23a0-48aa-b287-f56a1e1c7759"
      },
      "execution_count": 13,
      "outputs": [
        {
          "output_type": "stream",
          "name": "stdout",
          "text": [
            "The Honda City car gives the mileage of 24.1km/l\n",
            "The Honda City runs at the maximum speed of 150km/hr\n"
          ]
        }
      ]
    },
    {
      "cell_type": "code",
      "source": [
        "class Car:\n",
        "  def __init__(self,name,color,mileage):\n",
        "    self.name=name\n",
        "    self.color=color\n",
        "    self.mileage=mileage\n",
        "\n",
        "obj1=Car(\"BMW\",\"Red\",1000)\n",
        "obj2=Car(\"Toyota\",\"Blue\",1200)\n",
        "\n",
        "print(obj1.name)\n",
        "print(obj1.color)\n",
        "print(obj1.mileage)\n",
        "\n",
        "print() #separator\n",
        "\n",
        "print(obj2.mileage)"
      ],
      "metadata": {
        "colab": {
          "base_uri": "https://localhost:8080/"
        },
        "id": "c5i6Sobsluye",
        "outputId": "da0c6743-939d-4ad5-a648-f3dcde4fe8d0"
      },
      "execution_count": 15,
      "outputs": [
        {
          "output_type": "stream",
          "name": "stdout",
          "text": [
            "BMW\n",
            "Red\n",
            "1000\n",
            "\n",
            "1200\n"
          ]
        }
      ]
    },
    {
      "cell_type": "markdown",
      "source": [
        "# Application 1 - Write a Python program that prints your student information with the following attributes: Name, Age, Course, and Section.\n",
        "\n",
        "Note: I used the powerpoint as a reference for \"def description(self):\".\n",
        "\n",
        "\n",
        "I wanted it to have input so that it's not fixed to one value."
      ],
      "metadata": {
        "id": "QVo4tL9lm5_a"
      }
    },
    {
      "cell_type": "code",
      "source": [
        "class Student:\n",
        "  def __init__(self,name,age,course,section):\n",
        "    self.name=name\n",
        "    self.age=age\n",
        "    self.course=course\n",
        "    self.section=section\n",
        "\n",
        "  def description(self):\n",
        "    return \"Name: \"+str(a)+\", Age: \"+str(b)+\", Course: \"+str(c)+\", Section: \"+str(d)\n",
        "\n",
        "a=str(input(\"Enter your Name: \"))\n",
        "b=int(input(\"Enter your Age: \"))\n",
        "c=str(input(\"Enter your Course: \"))\n",
        "d=str(input(\"Enter your Section: \"))\n",
        "\n",
        "obj1=Student(a,b,c,d)\n",
        "print() #Separator\n",
        "print(obj1.description())"
      ],
      "metadata": {
        "colab": {
          "base_uri": "https://localhost:8080/"
        },
        "id": "1GFYcsAmnCe9",
        "outputId": "acb50a3e-cd8f-4d2d-c605-6380a31f0994"
      },
      "execution_count": 25,
      "outputs": [
        {
          "output_type": "stream",
          "name": "stdout",
          "text": [
            "Enter your Name: Danielle\n",
            "Enter your Age: 20\n",
            "Enter your Course: BSCPE\n",
            "Enter your Section: CPE12S6\n",
            "\n",
            "Name: Danielle, Age: 20, Course: BSCPE, Section: CPE12S6\n"
          ]
        }
      ]
    }
  ]
}