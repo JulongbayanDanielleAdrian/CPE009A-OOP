{
  "nbformat": 4,
  "nbformat_minor": 0,
  "metadata": {
    "colab": {
      "provenance": [],
      "authorship_tag": "ABX9TyPKAw0dbuWPgmq1YcgG7TTq",
      "include_colab_link": true
    },
    "kernelspec": {
      "name": "python3",
      "display_name": "Python 3"
    },
    "language_info": {
      "name": "python"
    }
  },
  "cells": [
    {
      "cell_type": "markdown",
      "metadata": {
        "id": "view-in-github",
        "colab_type": "text"
      },
      "source": [
        "<a href=\"https://colab.research.google.com/github/qdaajulongbayan01/CPE009A-OOP/blob/main/Concepts_of_OOP_2.ipynb\" target=\"_parent\"><img src=\"https://colab.research.google.com/assets/colab-badge.svg\" alt=\"Open In Colab\"/></a>"
      ]
    },
    {
      "cell_type": "markdown",
      "source": [
        "# Application 1\n",
        "\n",
        "\n",
        "1.   Create a Python program that displays the name of three students (Student 1, Student 2, and Student 3) and their term grades\n",
        "2.   Create a class name Person and attributes - std1, std2, std3, pre, mid, fin\n",
        "3.   Compute the average of each term grade using Grade() method\n",
        "4.   Information about student's grades must be hidden from others.\n",
        "\n"
      ],
      "metadata": {
        "id": "gqBD--9itvHS"
      }
    },
    {
      "cell_type": "code",
      "source": [
        "class Person:\n",
        "  def __init__(self,name,pre,mid,fin):\n",
        "    self.__name=name\n",
        "    self.__pre=pre\n",
        "    self.__mid=mid\n",
        "    self.__fin=fin\n",
        "  def Grade(self):\n",
        "    n=round((self.__pre + self.__mid + self.__fin)/3,2)\n",
        "    return (f\"{self.__name}'s Grade is: \"+str(n))\n",
        "class Student1(Person):\n",
        "    pass\n",
        "class Student2(Person):\n",
        "    pass\n",
        "class Student3(Person):\n",
        "    pass\n",
        "\n",
        "std1=Student1(\"Jax\",50,79,89)\n",
        "print(std1.Grade())\n",
        "std2=Student2(\"Pomni\",68,90,95)\n",
        "print(std2.Grade())\n",
        "std3=Student3(\"Agatha\",90,93,89)\n",
        "print(std3.Grade())"
      ],
      "metadata": {
        "colab": {
          "base_uri": "https://localhost:8080/"
        },
        "id": "L7mob3AEtxu5",
        "outputId": "a55775ff-c4d9-4fdd-89c4-0220f8d45118"
      },
      "execution_count": 59,
      "outputs": [
        {
          "output_type": "stream",
          "name": "stdout",
          "text": [
            "Jax's Grade is: 72.67\n",
            "Pomni's Grade is: 84.33\n",
            "Agatha's Grade is: 90.67\n"
          ]
        }
      ]
    },
    {
      "cell_type": "code",
      "execution_count": 3,
      "metadata": {
        "colab": {
          "base_uri": "https://localhost:8080/"
        },
        "id": "ImgsfpUYXHhv",
        "outputId": "889d15a0-e583-45b9-d49d-a1e64a1d17d5"
      },
      "outputs": [
        {
          "output_type": "stream",
          "name": "stdout",
          "text": [
            "Griffon Vulture flies above clouds\n",
            "Common Carane flies above clouds\n",
            "Emu is the national bird of the Philippines\n"
          ]
        }
      ],
      "source": [
        "class Birds:\n",
        "  def __init__(self, bird_name):\n",
        "    self.bird_name=bird_name\n",
        "  def flying_birds(self):\n",
        "    print(f\"{self.bird_name} flies above clouds\")\n",
        "  def non_flying_birds(self):\n",
        "    print(f\"{self.bird_name} is the national bird of the Philippines\")\n",
        "\n",
        "  vulture=Birds(\"Griffon Vulture\")\n",
        "  crane=Birds(\"Common Carane\")\n",
        "  emu=Birds(\"Emu\")\n",
        "\n",
        "  vulture.flying_birds()\n",
        "  crane.flying_birds()\n",
        "  emu.non_flying_birds()"
      ]
    },
    {
      "cell_type": "code",
      "source": [
        "class foo:\n",
        "  def __init__(self,a,b):\n",
        "    self.a=a\n",
        "    self.b=b\n",
        "  def add(self):\n",
        "    return self.a+self.b\n",
        "foo_object=foo(3,4)\n",
        "foo_object.add()"
      ],
      "metadata": {
        "colab": {
          "base_uri": "https://localhost:8080/"
        },
        "id": "VC-YzBNudchG",
        "outputId": "14d1dcec-7e62-4451-e2db-52c715335b37"
      },
      "execution_count": 4,
      "outputs": [
        {
          "output_type": "execute_result",
          "data": {
            "text/plain": [
              "7"
            ]
          },
          "metadata": {},
          "execution_count": 4
        }
      ]
    },
    {
      "cell_type": "markdown",
      "source": [
        "# Inheritance, Encapsulation, and Creating Multiple Object Names"
      ],
      "metadata": {
        "id": "wjDObBd5mS41"
      }
    },
    {
      "cell_type": "code",
      "source": [
        "class RegularPolygon:\n",
        "  def __init__(self,side):\n",
        "    self.side=side\n",
        "class Square(RegularPolygon):\n",
        "  def area(self):\n",
        "    return self.side*self.side\n",
        "class EquilateralTriangle(RegularPolygon):\n",
        "  def area(self):\n",
        "    return self.side*self.side*0.433\n",
        "side=RegularPolygon(4)\n",
        "print(Square.area(side))\n",
        "print(EquilateralTriangle.area(side))"
      ],
      "metadata": {
        "colab": {
          "base_uri": "https://localhost:8080/"
        },
        "id": "_x5DYpi6eFWO",
        "outputId": "95284603-a2b5-4fa8-8fb3-9f782643b4d4"
      },
      "execution_count": 30,
      "outputs": [
        {
          "output_type": "stream",
          "name": "stdout",
          "text": [
            "16\n",
            "6.928\n"
          ]
        }
      ]
    },
    {
      "cell_type": "code",
      "source": [
        "class RegularPolygon:\n",
        "  def __init__(self,side):\n",
        "    self.side=side\n",
        "  def area(self):\n",
        "    return self.side*self.side\n",
        "class Square(RegularPolygon):\n",
        "  pass\n",
        "\n",
        "square = Square(5)\n",
        "square.area()"
      ],
      "metadata": {
        "colab": {
          "base_uri": "https://localhost:8080/"
        },
        "id": "zdISA1jysavC",
        "outputId": "babc7959-4450-471c-ef50-d687751208bb"
      },
      "execution_count": 32,
      "outputs": [
        {
          "output_type": "execute_result",
          "data": {
            "text/plain": [
              "25"
            ]
          },
          "metadata": {},
          "execution_count": 32
        }
      ]
    }
  ]
}