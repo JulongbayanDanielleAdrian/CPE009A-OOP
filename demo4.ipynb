{
  "nbformat": 4,
  "nbformat_minor": 0,
  "metadata": {
    "colab": {
      "provenance": [],
      "toc_visible": true,
      "authorship_tag": "ABX9TyNdIJd55rb4V+2Y8Q2urTo3",
      "include_colab_link": true
    },
    "kernelspec": {
      "name": "python3",
      "display_name": "Python 3"
    },
    "language_info": {
      "name": "python"
    }
  },
  "cells": [
    {
      "cell_type": "markdown",
      "metadata": {
        "id": "view-in-github",
        "colab_type": "text"
      },
      "source": [
        "<a href=\"https://colab.research.google.com/github/qdaajulongbayan01/CPE009A-OOP/blob/main/demo4.ipynb\" target=\"_parent\"><img src=\"https://colab.research.google.com/assets/colab-badge.svg\" alt=\"Open In Colab\"/></a>"
      ]
    },
    {
      "cell_type": "markdown",
      "source": [
        "# **Operations and Expressions in Python**"
      ],
      "metadata": {
        "id": "hEffw_bKVsDU"
      }
    },
    {
      "cell_type": "markdown",
      "source": [
        "## **Boolean Operators**\n",
        "\n",
        "- Booleans represent one of two values: True or False\n",
        "- When you evaluate two values, the Python evalues and returns the Boolean answer:"
      ],
      "metadata": {
        "id": "uekrJSreZijC"
      }
    },
    {
      "cell_type": "code",
      "source": [
        "print(10>9)\n",
        "print(10==9)\n",
        "print(10<9)"
      ],
      "metadata": {
        "colab": {
          "base_uri": "https://localhost:8080/"
        },
        "id": "2DcWSLLRZukC",
        "outputId": "28ad9a2a-dcf5-457e-8be8-ec9387cd92c3"
      },
      "execution_count": 5,
      "outputs": [
        {
          "output_type": "stream",
          "name": "stdout",
          "text": [
            "True\n",
            "False\n",
            "False\n"
          ]
        }
      ]
    },
    {
      "cell_type": "markdown",
      "source": [
        "The bool() function allows you to evaluate any value, and give you True or False in return."
      ],
      "metadata": {
        "id": "uE4IuqXzW1ls"
      }
    },
    {
      "cell_type": "code",
      "source": [
        "print(bool(\"Hello\"))\n",
        "print(bool(15))"
      ],
      "metadata": {
        "colab": {
          "base_uri": "https://localhost:8080/"
        },
        "id": "pxvcv3KbVsaD",
        "outputId": "e771419e-5413-4693-a4b8-625a97bca869"
      },
      "execution_count": 4,
      "outputs": [
        {
          "output_type": "stream",
          "name": "stdout",
          "text": [
            "True\n",
            "True\n"
          ]
        }
      ]
    },
    {
      "cell_type": "markdown",
      "source": [
        "Almost any value is evaluated to True if it has some sort of context except for empty space/set."
      ],
      "metadata": {
        "id": "R5Jxd4u1YGiT"
      }
    },
    {
      "cell_type": "code",
      "source": [
        "bool(False)\n",
        "bool(None)\n",
        "bool(0)\n",
        "bool(\"\")\n",
        "bool(())\n",
        "bool([])\n",
        "bool({})"
      ],
      "metadata": {
        "colab": {
          "base_uri": "https://localhost:8080/"
        },
        "id": "y5QXW2-zYK5j",
        "outputId": "5f8fedbe-7f27-40f9-c815-ed056e3543ab"
      },
      "execution_count": 3,
      "outputs": [
        {
          "output_type": "execute_result",
          "data": {
            "text/plain": [
              "False"
            ]
          },
          "metadata": {},
          "execution_count": 3
        }
      ]
    },
    {
      "cell_type": "markdown",
      "source": [
        "### **Functions can Return a Boolean**"
      ],
      "metadata": {
        "id": "9yNnnUJTZ0Lr"
      }
    },
    {
      "cell_type": "code",
      "source": [
        "def myFunction():\n",
        "  return True\n",
        "\n",
        "print(myFunction())"
      ],
      "metadata": {
        "colab": {
          "base_uri": "https://localhost:8080/"
        },
        "id": "S5yjNZG3Z6IR",
        "outputId": "2a0ed60d-0e52-44ce-f142-6d42615877ec"
      },
      "execution_count": 8,
      "outputs": [
        {
          "output_type": "stream",
          "name": "stdout",
          "text": [
            "True\n"
          ]
        }
      ]
    },
    {
      "cell_type": "markdown",
      "source": [
        "### **You can execute code based on the Boolean answer of a function:**"
      ],
      "metadata": {
        "id": "0ELhnbgAaD8N"
      }
    },
    {
      "cell_type": "code",
      "source": [
        "def myFunction():\n",
        "  return True\n",
        "\n",
        "if myFunction():\n",
        "  print(\"YES!\")\n",
        "else:\n",
        "  print(\"NO!\")"
      ],
      "metadata": {
        "colab": {
          "base_uri": "https://localhost:8080/"
        },
        "id": "EydeVTjVaJ8O",
        "outputId": "b8597e38-09d4-46f6-9531-21aafc92ba32"
      },
      "execution_count": 14,
      "outputs": [
        {
          "output_type": "stream",
          "name": "stdout",
          "text": [
            "YES!\n"
          ]
        }
      ]
    },
    {
      "cell_type": "markdown",
      "source": [
        "### **\"You Try!\" -- Comparison Operators**"
      ],
      "metadata": {
        "id": "Vi4HgmRnaZ08"
      }
    },
    {
      "cell_type": "code",
      "source": [
        "print(10>9)\n",
        "\n",
        "a=6\n",
        "b=7\n",
        "print(a==b)\n",
        "print(a!=a)"
      ],
      "metadata": {
        "colab": {
          "base_uri": "https://localhost:8080/"
        },
        "id": "32A2nMMmab8i",
        "outputId": "5f291733-cdf5-4ce0-b0fe-10766d6e7859"
      },
      "execution_count": 10,
      "outputs": [
        {
          "output_type": "stream",
          "name": "stdout",
          "text": [
            "True\n",
            "False\n",
            "False\n"
          ]
        }
      ]
    },
    {
      "cell_type": "markdown",
      "source": [
        "## **Python Operators**\n",
        "\n",
        "- Operators are used to perform operations on variables and values.\n",
        "\n",
        "- In the example below, we use the + operator to add together two values:"
      ],
      "metadata": {
        "id": "NSiyynB5a3UL"
      }
    },
    {
      "cell_type": "code",
      "source": [
        "print(10+5)\n",
        "print(10-5)\n",
        "print(10*5)\n",
        "print(10/5)\n",
        "print(10%5) #Remainder\n",
        "print(10//3) #FloorDivision\n",
        "print(10**2) #Exponential"
      ],
      "metadata": {
        "id": "T0UFceicbB7C"
      },
      "execution_count": null,
      "outputs": []
    },
    {
      "cell_type": "markdown",
      "source": [
        "### **Python Bitwise Operators**"
      ],
      "metadata": {
        "id": "JgbYwvnjbJjD"
      }
    },
    {
      "cell_type": "markdown",
      "source": [
        "- Bitwise operator works on bits and performs bit-by-bit operation. Assume if a=60, and b=13; Now in binary format they will be as follows -"
      ],
      "metadata": {
        "id": "fG_RELt3bTEx"
      }
    },
    {
      "cell_type": "code",
      "source": [
        "a=60\n",
        "b=13\n",
        "print(a&b)\n",
        "print(a|b)\n",
        "print(a^b)\n",
        "print(~a)\n",
        "print(a<<2)\n",
        "print(a>>2)"
      ],
      "metadata": {
        "colab": {
          "base_uri": "https://localhost:8080/"
        },
        "id": "BdlmQ8oRbb7y",
        "outputId": "9d004c02-c231-4811-ecef-67b4472ffeab"
      },
      "execution_count": 25,
      "outputs": [
        {
          "output_type": "stream",
          "name": "stdout",
          "text": [
            "12\n",
            "61\n",
            "49\n",
            "-61\n",
            "240\n",
            "15\n"
          ]
        }
      ]
    },
    {
      "cell_type": "markdown",
      "source": [
        "***Operator -- Description -- Example***\n",
        "\n",
        "\"&\" Binary AND -- Operator copies a bit, to the result, if it exists in both operands -- (a & b) (means 0000 1100)\n",
        "\n",
        "\"|\" Binary OR -- It copies a bit, if it exists in either operand. -- (a | b) = 61 (means 0011 1101)\n",
        "\n",
        "\"~\" Binary Ones Complement -- It is unary and has the effect of 'flipping' bits. -- (~a) = -61 (means 1100 0011 in 2's complement form due to a signed binary number.)\n",
        "\n",
        "\"<<\" Binary Left Shift -- The left operand's value is moved left by the number of bits specified by the right operand. -- a << 2 = 240 (means 1111 0000)\n",
        "\n",
        "\">>\" Binary Right Shift -- The left operand's value is moved right by the number of bits specified by the right operand. -- a >> 2 = 15 (means 0000 1111)"
      ],
      "metadata": {
        "id": "VRQkcmQHfO1a"
      }
    },
    {
      "cell_type": "markdown",
      "source": [
        "### **Python Assignment Operators**"
      ],
      "metadata": {
        "id": "rDVOv4CKbnlK"
      }
    },
    {
      "cell_type": "code",
      "source": [
        "# x += 3 -- Same As x=x+3\n",
        "# x -= 3 -- Same As x=x-3\n",
        "# x *= 3 -- Same As x=x*3\n",
        "# x /= 3 -- Same As x=x/3\n",
        "# x %= 3 -- Same As x=x%3"
      ],
      "metadata": {
        "id": "V1imtyYtcDYZ"
      },
      "execution_count": null,
      "outputs": []
    },
    {
      "cell_type": "code",
      "source": [
        "x=1\n",
        "x+=3\n",
        "print(x)\n",
        "x=1\n",
        "x-=3\n",
        "print(x)\n",
        "x=1\n",
        "x*=3\n",
        "print(x)\n",
        "x=1\n",
        "x/=3\n",
        "print(x)\n",
        "x=1\n",
        "x%=3\n",
        "print(x)"
      ],
      "metadata": {
        "colab": {
          "base_uri": "https://localhost:8080/"
        },
        "id": "nv8Ovb2yjwE9",
        "outputId": "727f5dff-370d-4412-b7e6-18468fcb30b2"
      },
      "execution_count": 29,
      "outputs": [
        {
          "output_type": "stream",
          "name": "stdout",
          "text": [
            "4\n",
            "-2\n",
            "3\n",
            "0.3333333333333333\n",
            "1\n"
          ]
        }
      ]
    },
    {
      "cell_type": "markdown",
      "source": [
        "### **Logical Operators**"
      ],
      "metadata": {
        "id": "xA0Jt3S1dsbA"
      }
    },
    {
      "cell_type": "markdown",
      "source": [
        "***Operator -- Description -- Example***\n",
        "\n",
        "and Logical AND -- IF both the operands are true then condition becomes true -- (a and b) is False.\n",
        "\n",
        "or Logical OR -- If any of the two operands are non-zero then condition becomes true -- (a or b) is True.\n",
        "\n",
        "not Logical NOT -- Used to reverse the logical state of its operand. -- Not(A and b) is True."
      ],
      "metadata": {
        "id": "J-nLdlgnd1s4"
      }
    },
    {
      "cell_type": "code",
      "source": [
        "y=60\n",
        "z=13\n",
        "print(y>z)\n",
        "print(z>y)\n",
        "print(y>z and z>y)\n",
        "print(y>z or z>y)\n",
        "print(not(y>z and z<y))\n",
        "print(not(y>z or z<y))"
      ],
      "metadata": {
        "colab": {
          "base_uri": "https://localhost:8080/"
        },
        "id": "1XiIHwT8ks2k",
        "outputId": "340cd11b-2940-4ce6-ca41-8a257f17b4ee"
      },
      "execution_count": 40,
      "outputs": [
        {
          "output_type": "stream",
          "name": "stdout",
          "text": [
            "True\n",
            "False\n",
            "False\n",
            "True\n",
            "False\n",
            "False\n"
          ]
        }
      ]
    },
    {
      "cell_type": "markdown",
      "source": [
        "### **Identity Operator**"
      ],
      "metadata": {
        "id": "W5m-CZKpeMzo"
      }
    },
    {
      "cell_type": "markdown",
      "source": [
        "***Operator -- Description -- Example***\n",
        "\n",
        "is -- Evaluates to true if the variables on either side of the operator point to the same object and false otherwise. -- x is y, here is results in 1 if id(x) equals id(y)\n",
        "\n",
        "\n",
        "\n",
        "is not -- Evaluates to false if the variables on either side of the operator point to the same object and true otherwise. -- x is not y, here is not results in 1 if id(x) is not equal to id(y)."
      ],
      "metadata": {
        "id": "K9lahsu3ePfo"
      }
    },
    {
      "cell_type": "code",
      "source": [
        "print (y is z)\n",
        "print(y is not z)"
      ],
      "metadata": {
        "colab": {
          "base_uri": "https://localhost:8080/"
        },
        "id": "Ho9Jsiw2nOCq",
        "outputId": "b74db7c7-b702-46b7-894c-7ddab5201e97"
      },
      "execution_count": 41,
      "outputs": [
        {
          "output_type": "stream",
          "name": "stdout",
          "text": [
            "False\n",
            "True\n"
          ]
        }
      ]
    },
    {
      "cell_type": "markdown",
      "source": [
        "## **Conditional Statement in Python**\n",
        "\n",
        "- Conditional statements execute sequentially when there is no condition around the statements. If you put some condition for a block of statements, the execution flow may change based on the result evaluated by the condition."
      ],
      "metadata": {
        "id": "OA0Q83aVetxQ"
      }
    },
    {
      "cell_type": "markdown",
      "source": [
        "### **Control Structure**\n",
        "\n",
        "- is a block of programming analyzes variables and chooses a direction in which to go based on a given parameters."
      ],
      "metadata": {
        "id": "Q4JTNkTUngJd"
      }
    },
    {
      "cell_type": "markdown",
      "source": [
        "#### **Types of Control Structures**"
      ],
      "metadata": {
        "id": "7ZwL0lB6np5T"
      }
    },
    {
      "cell_type": "markdown",
      "source": [
        "###### **Python supports the usual logical conditions from mathematics:**\n",
        "\n",
        "- Equals: a==b\n",
        "- Not Equals: a!=b\n",
        "- Less than: a<b\n",
        "- Less than or equal to: a<=b\n",
        "- Greater than: a>b\n",
        "- Greater than or equal to: a>=b"
      ],
      "metadata": {
        "id": "qnneDzHXnu1W"
      }
    },
    {
      "cell_type": "markdown",
      "source": [
        "##### **Proceed to demo3.ipynb for the If and etc. statements**"
      ],
      "metadata": {
        "id": "9APuM_TloWyj"
      }
    },
    {
      "cell_type": "markdown",
      "source": [
        "##### **LOOP Statement**\n",
        "\n",
        "- Loop control statements in Python are used to perform looping operations until the given condition is True. Control comes out of the loop statements once condition becomes False."
      ],
      "metadata": {
        "id": "8KGxhAZIqB0D"
      }
    },
    {
      "cell_type": "markdown",
      "source": [
        "###### **Types**\n",
        "\n",
        "- For loop statement - A FOR loop is used to iterating over a sequence (that is either a list, a tuple, a dictionary, a set, or a string), similar to while statements, but this statement is to process list in large range of numbers."
      ],
      "metadata": {
        "id": "rUqntNOgqQqq"
      }
    },
    {
      "cell_type": "markdown",
      "source": [
        "###### **Example 1**\n",
        "\n"
      ],
      "metadata": {
        "id": "YB_KT1tbqgta"
      }
    },
    {
      "cell_type": "code",
      "source": [
        "week=[\"Sunday\",\"Monday\",\"Tuesday\",\"Wednesday\",\"Thursday\",\"Friday\",\"Saturday\"]\n",
        "for x in week:\n",
        "  print(x)"
      ],
      "metadata": {
        "colab": {
          "base_uri": "https://localhost:8080/"
        },
        "id": "Q7F3FCJVqmD6",
        "outputId": "b93e1767-6ba2-4f08-afc0-06dc12e9d50a"
      },
      "execution_count": 42,
      "outputs": [
        {
          "output_type": "stream",
          "name": "stdout",
          "text": [
            "Sunday\n",
            "Monday\n",
            "Tuesday\n",
            "Wednesday\n",
            "Thursday\n",
            "Friday\n",
            "Saturday\n"
          ]
        }
      ]
    },
    {
      "cell_type": "markdown",
      "source": [
        "###### **Example 2 (The break statement)**"
      ],
      "metadata": {
        "id": "nREVWG7_qx-L"
      }
    },
    {
      "cell_type": "code",
      "source": [
        "week=[\"Sunday\",\"Monday\",\"Tuesday\",\"Wednesday\",\"Thursday\",\"Friday\",\"Saturday\"]\n",
        "for x in week:\n",
        "  print(x)\n",
        "  if x==\"Thursday\":\n",
        "    break"
      ],
      "metadata": {
        "colab": {
          "base_uri": "https://localhost:8080/"
        },
        "id": "iHCZhz5Mq2K6",
        "outputId": "d0aa109d-33bc-45ab-863d-3711aff741b8"
      },
      "execution_count": 43,
      "outputs": [
        {
          "output_type": "stream",
          "name": "stdout",
          "text": [
            "Sunday\n",
            "Monday\n",
            "Tuesday\n",
            "Wednesday\n",
            "Thursday\n"
          ]
        }
      ]
    },
    {
      "cell_type": "markdown",
      "source": [
        "###### **Example 3 (The break statement)**"
      ],
      "metadata": {
        "id": "huqZBB0BtFCZ"
      }
    },
    {
      "cell_type": "code",
      "source": [
        "week=[\"Sunday\",\"Monday\",\"Tuesday\",\"Wednesday\",\"Thursday\",\"Friday\",\"Saturday\"]\n",
        "for x in week:\n",
        "  if x==\"Thursday\":\n",
        "    break\n",
        "  print(x)"
      ],
      "metadata": {
        "colab": {
          "base_uri": "https://localhost:8080/"
        },
        "id": "FRpy7GVqtJ3T",
        "outputId": "56d8a827-244c-40d9-c1c1-6457e0f44673"
      },
      "execution_count": 48,
      "outputs": [
        {
          "output_type": "stream",
          "name": "stdout",
          "text": [
            "Sunday\n",
            "Monday\n",
            "Tuesday\n",
            "Wednesday\n"
          ]
        }
      ]
    },
    {
      "cell_type": "markdown",
      "source": [
        "###### **\"What if I want to view only THURSDAY?\"**"
      ],
      "metadata": {
        "id": "vIFOKyMbt6QY"
      }
    },
    {
      "cell_type": "code",
      "source": [
        "week=[\"Sunday\",\"Monday\",\"Tuesday\",\"Wednesday\",\"Thursday\",\"Friday\",\"Saturday\"]\n",
        "for x in week:\n",
        "  if x==\"Thursday\":\n",
        "    print(x)\n",
        "    break"
      ],
      "metadata": {
        "colab": {
          "base_uri": "https://localhost:8080/"
        },
        "id": "EzgZiUCPt4sZ",
        "outputId": "c7e121e3-550c-4d31-f0cc-83f77c126b1f"
      },
      "execution_count": 50,
      "outputs": [
        {
          "output_type": "stream",
          "name": "stdout",
          "text": [
            "Thursday\n"
          ]
        }
      ]
    },
    {
      "cell_type": "markdown",
      "source": [
        "###### **Example 4 (Looping through a string)**"
      ],
      "metadata": {
        "id": "8TVgYMzJq_4r"
      }
    },
    {
      "cell_type": "code",
      "source": [
        "for x in \"week\":\n",
        "  print(x)"
      ],
      "metadata": {
        "colab": {
          "base_uri": "https://localhost:8080/"
        },
        "id": "fvEhqKtIrCyi",
        "outputId": "837e5aba-b31f-4d34-9322-7eab145e93ba"
      },
      "execution_count": 44,
      "outputs": [
        {
          "output_type": "stream",
          "name": "stdout",
          "text": [
            "w\n",
            "e\n",
            "e\n",
            "k\n"
          ]
        }
      ]
    },
    {
      "cell_type": "markdown",
      "source": [
        "##### **The range() Function**\n",
        "\n",
        "- To loop through a set of code a specified number of times, we can use the range() function.\n",
        "\n",
        "- The range() function returns a sequence of numbers, starting from 0 by default, and increments by 1 (by default) and ends at a specified number.\n",
        "\n",
        "**Example:**"
      ],
      "metadata": {
        "id": "zXxPiL8JrIj6"
      }
    },
    {
      "cell_type": "code",
      "source": [
        "for x in range(6):\n",
        "  print(x)\n",
        "print(\" \")\n",
        "for x in range(2,6): # syntax: range(<starting number>, <increment>, <limit>)\n",
        "  print(x)"
      ],
      "metadata": {
        "colab": {
          "base_uri": "https://localhost:8080/"
        },
        "id": "gB4FIs9TrpwB",
        "outputId": "1a13bf4f-d9e0-49b9-91be-23bfd931b057"
      },
      "execution_count": 47,
      "outputs": [
        {
          "output_type": "stream",
          "name": "stdout",
          "text": [
            "0\n",
            "1\n",
            "2\n",
            "3\n",
            "4\n",
            "5\n",
            " \n",
            "2\n",
            "3\n",
            "4\n",
            "5\n"
          ]
        }
      ]
    },
    {
      "cell_type": "markdown",
      "source": [
        "##### **Nested Loops**"
      ],
      "metadata": {
        "id": "4GYpavONwv0o"
      }
    },
    {
      "cell_type": "code",
      "source": [
        "adjective=[\"red\",\"big\",\"tasty\"]\n",
        "fruits=[\"apple\",\"banana\",\"cherry\"]\n",
        "\n",
        "for x in adjective:\n",
        "  for y in fruits:\n",
        "    print(x,y)"
      ],
      "metadata": {
        "colab": {
          "base_uri": "https://localhost:8080/"
        },
        "id": "cte0GLD7w1va",
        "outputId": "75f6069a-8908-4282-901c-22afeb66d7c2"
      },
      "execution_count": 51,
      "outputs": [
        {
          "output_type": "stream",
          "name": "stdout",
          "text": [
            "red apple\n",
            "red banana\n",
            "red cherry\n",
            "big apple\n",
            "big banana\n",
            "big cherry\n",
            "tasty apple\n",
            "tasty banana\n",
            "tasty cherry\n"
          ]
        }
      ]
    },
    {
      "cell_type": "markdown",
      "source": [
        "#### **While Loop**"
      ],
      "metadata": {
        "id": "w9qjbXiVyEaH"
      }
    },
    {
      "cell_type": "markdown",
      "source": [
        "##### **Example 5**\n",
        "\n"
      ],
      "metadata": {
        "id": "XTAUB0tlyKQe"
      }
    },
    {
      "cell_type": "code",
      "source": [
        "i=1\n",
        "while i<6:\n",
        "  print(i)\n",
        "  i+=1"
      ],
      "metadata": {
        "colab": {
          "base_uri": "https://localhost:8080/"
        },
        "id": "fXJlK6u7yM1i",
        "outputId": "ddc5fc2e-7579-45cd-e9b2-950a20441580"
      },
      "execution_count": 53,
      "outputs": [
        {
          "output_type": "stream",
          "name": "stdout",
          "text": [
            "1\n",
            "2\n",
            "3\n",
            "4\n",
            "5\n"
          ]
        }
      ]
    },
    {
      "cell_type": "markdown",
      "source": [
        "##### **Example 6**"
      ],
      "metadata": {
        "id": "fTZg9WaNyaJo"
      }
    },
    {
      "cell_type": "code",
      "source": [
        "i=1\n",
        "while i<6:\n",
        "  print(i)\n",
        "  if i==3:\n",
        "    break\n",
        "  i+=1"
      ],
      "metadata": {
        "colab": {
          "base_uri": "https://localhost:8080/"
        },
        "id": "2NBiaqMryfwm",
        "outputId": "0143724a-45c6-4854-8cb0-6829f48016ec"
      },
      "execution_count": 52,
      "outputs": [
        {
          "output_type": "stream",
          "name": "stdout",
          "text": [
            "1\n",
            "2\n",
            "3\n"
          ]
        }
      ]
    },
    {
      "cell_type": "markdown",
      "source": [
        "##### **Example 7**"
      ],
      "metadata": {
        "id": "_ppZKw2Wyn6P"
      }
    },
    {
      "cell_type": "code",
      "source": [
        "i=1\n",
        "while i<6:\n",
        "  i+=1\n",
        "  if i==3:\n",
        "    continue\n",
        "  print(i)"
      ],
      "metadata": {
        "colab": {
          "base_uri": "https://localhost:8080/"
        },
        "id": "Rd2lC1Cnyp6-",
        "outputId": "fb709622-ee7c-403d-e0b9-e7b327ab81b7"
      },
      "execution_count": 54,
      "outputs": [
        {
          "output_type": "stream",
          "name": "stdout",
          "text": [
            "2\n",
            "4\n",
            "5\n",
            "6\n"
          ]
        }
      ]
    }
  ]
}