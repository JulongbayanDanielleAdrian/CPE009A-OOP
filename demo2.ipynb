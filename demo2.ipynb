{
  "nbformat": 4,
  "nbformat_minor": 0,
  "metadata": {
    "colab": {
      "provenance": [],
      "toc_visible": true,
      "authorship_tag": "ABX9TyPp2NtmW1uGH4mt2hU9lNGA",
      "include_colab_link": true
    },
    "kernelspec": {
      "name": "python3",
      "display_name": "Python 3"
    },
    "language_info": {
      "name": "python"
    }
  },
  "cells": [
    {
      "cell_type": "markdown",
      "metadata": {
        "id": "view-in-github",
        "colab_type": "text"
      },
      "source": [
        "<a href=\"https://colab.research.google.com/github/qdaajulongbayan01/CPE009A-OOP/blob/main/demo2.ipynb\" target=\"_parent\"><img src=\"https://colab.research.google.com/assets/colab-badge.svg\" alt=\"Open In Colab\"/></a>"
      ]
    },
    {
      "cell_type": "markdown",
      "source": [
        "# **Algorithm and Flowcharts**\n",
        "\n"
      ],
      "metadata": {
        "id": "90ReGMjbJJ23"
      }
    },
    {
      "cell_type": "markdown",
      "source": [
        "# Flowcharts\n",
        "\n",
        "Terminal (Oval) -> start point or end point.\n",
        "\n",
        "Initialization (Hexagon) -> symbolizes the variables for the algorithm or programs.\n",
        "\n",
        "Process (Rectangle) -> process of computation in the algorithm or programs.\n",
        "\n",
        "Decision (Diamond) -> symbolizes a condition that would be answerable by either True or False.\n",
        "\n",
        "Input/Output (Parallelogram) -> symbolizes the process of accepting or displaying data in the flowchart.\n",
        "\n",
        "Direction Arrows -> used to symbolize the flow in the flowchart.\n",
        "\n",
        "Connector (Circle) -> symbolizes the connection in the flowchart specially if there are loops or iteration."
      ],
      "metadata": {
        "id": "kUF9kpIlJ71Z"
      }
    },
    {
      "cell_type": "markdown",
      "source": [
        "# Applying an example Algorithm to Python Programming"
      ],
      "metadata": {
        "id": "vsPQjcFXMYWv"
      }
    },
    {
      "cell_type": "markdown",
      "source": [
        "**Getting the average of three numbers**"
      ],
      "metadata": {
        "id": "eP6QYVYbSAsX"
      }
    },
    {
      "cell_type": "code",
      "source": [
        "print(\"Input three grades\")\n",
        "num1=int(input())\n",
        "num2=int(input())\n",
        "num3=int(input())\n",
        "sum=num1+num2+num3\n",
        "average=sum/3\n",
        "print(\"The average is \"+str(average))"
      ],
      "metadata": {
        "colab": {
          "base_uri": "https://localhost:8080/"
        },
        "id": "UneiLderSOqH",
        "outputId": "73ff2b8d-5af8-4fa6-93eb-f58b55902799"
      },
      "execution_count": 13,
      "outputs": [
        {
          "output_type": "stream",
          "name": "stdout",
          "text": [
            "Input three grades\n",
            "56\n",
            "87\n",
            "45\n",
            "The average is 62.666666666666664\n"
          ]
        }
      ]
    },
    {
      "cell_type": "markdown",
      "source": [
        "**Getting the average of three numbers and outputting with conditions**"
      ],
      "metadata": {
        "id": "ZA8VSVNdS8SF"
      }
    },
    {
      "cell_type": "code",
      "source": [
        "num1,num2,num3=0,0,0\n",
        "average=0\n",
        "num1=float(input(\"Enter first grading value: \"))\n",
        "num2=float(input(\"Enter second grading value: \"))\n",
        "num3=float(input(\"Enter third grading value: \"))\n",
        "sum=num1+num2+num3\n",
        "average=(sum/3)\n",
        "if average>50:\n",
        "  print(\"The average of \" +str(average)+ \" is greater than 50.\")\n",
        "elif average==50:\n",
        "  print(\"The average of \" +str(average)+ \" is equal to 50.\")\n",
        "else:\n",
        "  print(\"The average of \" +str(average)+ \" is less than 50.\")"
      ],
      "metadata": {
        "colab": {
          "base_uri": "https://localhost:8080/"
        },
        "id": "87IaNnkSMeMv",
        "outputId": "554e7776-c437-46b4-935b-406198e218e1"
      },
      "execution_count": 12,
      "outputs": [
        {
          "output_type": "stream",
          "name": "stdout",
          "text": [
            "Enter value for num1: 76\n",
            "Enter value for num2: 98\n",
            "Enter value for num3: 87\n",
            "The average of 87.0 is greater than 50.\n"
          ]
        }
      ]
    }
  ]
}