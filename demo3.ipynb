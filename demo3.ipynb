{
  "nbformat": 4,
  "nbformat_minor": 0,
  "metadata": {
    "colab": {
      "provenance": [],
      "toc_visible": true,
      "authorship_tag": "ABX9TyN1xorfmX0zrg/qwsWOCcYG",
      "include_colab_link": true
    },
    "kernelspec": {
      "name": "python3",
      "display_name": "Python 3"
    },
    "language_info": {
      "name": "python"
    }
  },
  "cells": [
    {
      "cell_type": "markdown",
      "metadata": {
        "id": "view-in-github",
        "colab_type": "text"
      },
      "source": [
        "<a href=\"https://colab.research.google.com/github/qdaajulongbayan01/CPE009A-OOP/blob/main/demo3.ipynb\" target=\"_parent\"><img src=\"https://colab.research.google.com/assets/colab-badge.svg\" alt=\"Open In Colab\"/></a>"
      ]
    },
    {
      "cell_type": "markdown",
      "source": [
        "# **Conditional Statements in Python**"
      ],
      "metadata": {
        "id": "FiTUIcDrNBRD"
      }
    },
    {
      "cell_type": "markdown",
      "source": [
        "# Introduction\n"
      ],
      "metadata": {
        "id": "wXFYHULtNVni"
      }
    },
    {
      "cell_type": "markdown",
      "source": [
        "\n",
        "Conditional statements execute sequentially when there is no condition around the statements. If you put some dcondition for a block of statements, the execution flow may change based on the result evaluated by the condition.\n",
        "\n",
        "**Control Structure**\n",
        "- is a block of programming analyzes variables and chooses a direction in which to go based on a given parameter.\n",
        "\n",
        "**Logical Conditions from Mathematics**\n",
        "- Equal to :==\n",
        "- Not Equal to: !=\n",
        "- Less Than: <\n",
        "- Less Than or Equal to: <=\n",
        "- Greater Than: >\n",
        "- Greater Than or Equal to: >=\n"
      ],
      "metadata": {
        "id": "j6_w02GMOQgy"
      }
    },
    {
      "cell_type": "markdown",
      "source": [
        "\n",
        "# 1. If Statement\n",
        "\n",
        "< declaration of variables >\n",
        "\n",
        "if condition:\n",
        "\n",
        " block of statements\n",
        "\n",
        "Example:"
      ],
      "metadata": {
        "id": "-mC06VQwOiqK"
      }
    },
    {
      "cell_type": "code",
      "execution_count": 1,
      "metadata": {
        "colab": {
          "base_uri": "https://localhost:8080/"
        },
        "id": "7iOQVMY6M_5M",
        "outputId": "7ca7c3ec-56eb-430f-d121-a327f7d6f692"
      },
      "outputs": [
        {
          "output_type": "stream",
          "name": "stdout",
          "text": [
            "a and b are equal\n"
          ]
        }
      ],
      "source": [
        "a=12\n",
        "b=12\n",
        "if b>a:\n",
        "  print(\"b is greater than a\")"
      ]
    },
    {
      "cell_type": "markdown",
      "source": [
        "# 2. Elif Statement"
      ],
      "metadata": {
        "id": "LK0rBzrcOq1S"
      }
    },
    {
      "cell_type": "code",
      "source": [
        "a=100\n",
        "b=10\n",
        "if b>a:\n",
        "  print(\"b is greater than a\")\n",
        "elif a==b:\n",
        "  print(\"a and b are equal\")"
      ],
      "metadata": {
        "colab": {
          "base_uri": "https://localhost:8080/"
        },
        "id": "uhegVRuQPWlD",
        "outputId": "a50ccfad-2e57-4968-dc86-7867ce7b8ef4"
      },
      "execution_count": 2,
      "outputs": [
        {
          "output_type": "stream",
          "name": "stdout",
          "text": [
            "a is greater than b\n"
          ]
        }
      ]
    },
    {
      "cell_type": "markdown",
      "source": [
        "# 3. Else Statements"
      ],
      "metadata": {
        "id": "4I6GXdzKQawD"
      }
    },
    {
      "cell_type": "code",
      "source": [
        "a=200\n",
        "b=33\n",
        "if b>a:\n",
        "  print(\"b is greater than a\")\n",
        "elif a==b:\n",
        "  print(\"a and b are equal\")\n",
        "else:\n",
        "  print(\"a is greater than b\")"
      ],
      "metadata": {
        "colab": {
          "base_uri": "https://localhost:8080/"
        },
        "id": "qmfx6AkDQdbJ",
        "outputId": "b8ce771a-fd65-437d-c13e-728f42523bdd"
      },
      "execution_count": 5,
      "outputs": [
        {
          "output_type": "stream",
          "name": "stdout",
          "text": [
            "a is greater than b\n"
          ]
        }
      ]
    },
    {
      "cell_type": "markdown",
      "source": [],
      "metadata": {
        "id": "YiK7pYsJQavK"
      }
    },
    {
      "cell_type": "markdown",
      "source": [
        "# 4. Short Hand If Statement"
      ],
      "metadata": {
        "id": "A0TzB2dtSatR"
      }
    },
    {
      "cell_type": "markdown",
      "source": [
        "If you have only one statement to execute, you can put it on the same line as the if statement."
      ],
      "metadata": {
        "id": "yeipttQsSgY5"
      }
    },
    {
      "cell_type": "code",
      "source": [
        "a=200\n",
        "b=33\n",
        "if a>b: print(\"a is greater than b\")"
      ],
      "metadata": {
        "colab": {
          "base_uri": "https://localhost:8080/"
        },
        "id": "J_u0IR69SkgR",
        "outputId": "b66f5f2f-047a-400c-d57c-dcb224a1c1dc"
      },
      "execution_count": 4,
      "outputs": [
        {
          "output_type": "stream",
          "name": "stdout",
          "text": [
            "a is greater than b\n"
          ]
        }
      ]
    },
    {
      "cell_type": "markdown",
      "source": [
        "# 5. Short Hand If..Else Statement"
      ],
      "metadata": {
        "id": "6zDly0wsSUi8"
      }
    },
    {
      "cell_type": "markdown",
      "source": [
        "If you have only one statement to execute, one for if, and one for else, you can put it all on the same line.\n"
      ],
      "metadata": {
        "id": "Bf02iPf7SXpw"
      }
    },
    {
      "cell_type": "code",
      "source": [
        "a=2\n",
        "b=330\n",
        "print(\"A\") if a>b else print(\"B\")"
      ],
      "metadata": {
        "colab": {
          "base_uri": "https://localhost:8080/"
        },
        "id": "yUUfB3CZSxbq",
        "outputId": "80053c7c-2ee6-4d3e-fe0c-ec454af17baf"
      },
      "execution_count": 3,
      "outputs": [
        {
          "output_type": "stream",
          "name": "stdout",
          "text": [
            "B\n"
          ]
        }
      ]
    },
    {
      "cell_type": "markdown",
      "source": [
        "# And-both conditions are true"
      ],
      "metadata": {
        "id": "5luneU5wUBJJ"
      }
    },
    {
      "cell_type": "code",
      "source": [
        "a=200\n",
        "b=33\n",
        "c=500\n",
        "if a>b and c>a:\n",
        "  print(\"Both conditions are true\")"
      ],
      "metadata": {
        "colab": {
          "base_uri": "https://localhost:8080/"
        },
        "id": "XUPC9z2SUDSh",
        "outputId": "9001baa9-acb7-4763-aa02-59ccbc90a23f"
      },
      "execution_count": 6,
      "outputs": [
        {
          "output_type": "stream",
          "name": "stdout",
          "text": [
            "Both conditions are true\n"
          ]
        }
      ]
    },
    {
      "cell_type": "markdown",
      "source": [
        "# Or-at least one of the conditions is true"
      ],
      "metadata": {
        "id": "jcVU8RGbUbNh"
      }
    },
    {
      "cell_type": "code",
      "source": [
        "a=200\n",
        "b=33\n",
        "c=500\n",
        "if a>b or a>c:\n",
        "  print(\"At least one of the conditions is True\")"
      ],
      "metadata": {
        "colab": {
          "base_uri": "https://localhost:8080/"
        },
        "id": "Q16Qd0KnUeOA",
        "outputId": "d0d21c01-5321-4c23-8091-01c1aca76224"
      },
      "execution_count": 7,
      "outputs": [
        {
          "output_type": "stream",
          "name": "stdout",
          "text": [
            "At least one of the conditions is True\n"
          ]
        }
      ]
    },
    {
      "cell_type": "markdown",
      "source": [
        "# Nested If"
      ],
      "metadata": {
        "id": "Ci4RbH4vVBoa"
      }
    },
    {
      "cell_type": "markdown",
      "source": [
        "- Executes two different codes depending upon whether the test expression is true or false. It also allows the user to check for multiple condition and execute ..."
      ],
      "metadata": {
        "id": "vw6VEXBbVC8J"
      }
    },
    {
      "cell_type": "code",
      "source": [
        "x=41\n",
        "if x>10:\n",
        "  print(\"Above ten,\")\n",
        "  if x>20:\n",
        "    print(\"and also above 20!\")\n",
        "    if x>30:\n",
        "      print(\"and also above 30!\")\n",
        "      if x>40:\n",
        "        print(\"and also above 40!\")\n",
        "        if x>50:\n",
        "          print(\"and also above 50!\")\n",
        "        else:\n",
        "          print(\"but not above 50.\")\n",
        "      else:\n",
        "        print(\"but not above 40.\")\n",
        "    else:\n",
        "      print(\"but not above 30.\")\n",
        "  else:\n",
        "    print(\"but not above 20.\")"
      ],
      "metadata": {
        "colab": {
          "base_uri": "https://localhost:8080/"
        },
        "id": "fHshmw8FVMbB",
        "outputId": "d811abaf-c6c2-421b-d201-a9afa1246cee"
      },
      "execution_count": 34,
      "outputs": [
        {
          "output_type": "stream",
          "name": "stdout",
          "text": [
            "Above ten,\n",
            "and also above 20!\n",
            "and also above 30!\n",
            "and also above 40!\n",
            "but not above 50.\n"
          ]
        }
      ]
    },
    {
      "cell_type": "markdown",
      "source": [
        "# Example 1"
      ],
      "metadata": {
        "id": "2fXS1zR9an9g"
      }
    },
    {
      "cell_type": "markdown",
      "source": [
        "- *Write a program that determines if the input age is qualified to vote or not. The qualifying age is 18 years old and above.*"
      ],
      "metadata": {
        "id": "SOMfmvktaq9T"
      }
    },
    {
      "cell_type": "code",
      "source": [
        "age=int(input(\"Please Enter your Age: \"))\n",
        "if age<18:\n",
        "  print(\"You are not qualified to use this program.\")\n",
        "else:\n",
        "  print(\"You are qualified to use this program!\")"
      ],
      "metadata": {
        "colab": {
          "base_uri": "https://localhost:8080/"
        },
        "id": "-Me7XJFNa5zp",
        "outputId": "10c171e9-51f4-4801-fd82-a96ab5379f27"
      },
      "execution_count": 36,
      "outputs": [
        {
          "output_type": "stream",
          "name": "stdout",
          "text": [
            "Please Enter your Age:20\n",
            "You are qualified to use this program!\n"
          ]
        }
      ]
    },
    {
      "cell_type": "markdown",
      "source": [
        "# Example 2"
      ],
      "metadata": {
        "id": "NV1F9jdfbDY5"
      }
    },
    {
      "cell_type": "markdown",
      "source": [
        "- *Write a program that determines if the input number is POSITIVE, NEGATIVE, or ZERO.*"
      ],
      "metadata": {
        "id": "V8zyN2SpbE2w"
      }
    },
    {
      "cell_type": "code",
      "source": [
        "num=int(input(\"Please input any integer: \"))\n",
        "if num>0:\n",
        "  print(\"Your integer is POSITIVE.\")\n",
        "elif num==0:\n",
        "  print(\"Your integer is ZERO.\")\n",
        "else:\n",
        "  print(\"Your integer is NEGATIVE.\")"
      ],
      "metadata": {
        "colab": {
          "base_uri": "https://localhost:8080/"
        },
        "id": "hCor7we-b5uQ",
        "outputId": "ea060394-5250-434d-ffbf-ced389f7d4e8"
      },
      "execution_count": 39,
      "outputs": [
        {
          "output_type": "stream",
          "name": "stdout",
          "text": [
            "Please input any integer: -2\n",
            "Your integer is NEGATIVE.\n"
          ]
        }
      ]
    },
    {
      "cell_type": "markdown",
      "source": [
        "# Example 3"
      ],
      "metadata": {
        "id": "xZYGDmW5b7C4"
      }
    },
    {
      "cell_type": "markdown",
      "source": [
        "- *Write a program to determine if the grades are:*\n",
        "\n",
        "If:\n",
        "\n",
        "- grade >= 70, \"Passed\"\n",
        "\n",
        "- grade is 65 to 69, \"Remedial\"\n",
        "\n",
        "- grade < 64 or below, \"Failed\"\n",
        "\n",
        "- note: if grade is a negative number, it will not be accepted."
      ],
      "metadata": {
        "id": "dvSxrZByb8JA"
      }
    },
    {
      "cell_type": "code",
      "source": [
        "grade=int(input(\"Enter your Grade: \"))\n",
        "if grade>=70:\n",
        "  print(\"Passed\")\n",
        "elif grade>=65 and grade<=69:\n",
        "  print(\"Remedial\")\n",
        "elif grade<0:\n",
        "  print(\"Negative numbers will not be accepted.\")\n",
        "else:\n",
        "  print(\"Failed\")"
      ],
      "metadata": {
        "colab": {
          "base_uri": "https://localhost:8080/"
        },
        "id": "VQHRhdYzcOOA",
        "outputId": "b7c11e45-e42c-46b4-d087-06a7815bdfde"
      },
      "execution_count": 45,
      "outputs": [
        {
          "output_type": "stream",
          "name": "stdout",
          "text": [
            "Enter your Grade: -2\n",
            "Negative numbers will not be accepted.\n"
          ]
        }
      ]
    }
  ]
}