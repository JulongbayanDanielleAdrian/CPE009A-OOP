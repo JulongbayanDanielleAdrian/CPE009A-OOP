{
  "nbformat": 4,
  "nbformat_minor": 0,
  "metadata": {
    "colab": {
      "provenance": [],
      "authorship_tag": "ABX9TyNY0S2HjzS0IEelad6f8LQs",
      "include_colab_link": true
    },
    "kernelspec": {
      "name": "python3",
      "display_name": "Python 3"
    },
    "language_info": {
      "name": "python"
    }
  },
  "cells": [
    {
      "cell_type": "markdown",
      "metadata": {
        "id": "view-in-github",
        "colab_type": "text"
      },
      "source": [
        "<a href=\"https://colab.research.google.com/github/qdaajulongbayan01/CPE009A-OOP/blob/main/OOP_Concepts_2.ipynb\" target=\"_parent\"><img src=\"https://colab.research.google.com/assets/colab-badge.svg\" alt=\"Open In Colab\"/></a>"
      ]
    },
    {
      "cell_type": "markdown",
      "source": [
        "# - Create a Class Name \"Shapes\" (5 Shapes)\n",
        "# - Attributes Sides\n",
        "# - Create a Function/method that displays the no. of sides of the shape\n",
        "# - Apply inheritance and encapsulation"
      ],
      "metadata": {
        "id": "A3pf3hXeri7h"
      }
    },
    {
      "cell_type": "code",
      "execution_count": 4,
      "metadata": {
        "colab": {
          "base_uri": "https://localhost:8080/"
        },
        "id": "ZkpC2_O7d9Et",
        "outputId": "ecb15f1d-295d-43ed-d89d-82e49695453c"
      },
      "outputs": [
        {
          "output_type": "stream",
          "name": "stdout",
          "text": [
            "Triangle's number of sides are: 3\n",
            "Quadrilateral's number of sides are: 4\n",
            "Pentagon's number of sides are: 5\n",
            "Hexagon's number of sides are: 6\n",
            "Heptagon's number of sides are: 7\n"
          ]
        }
      ],
      "source": [
        "class Shapes:\n",
        "  def __init__(self, name, sides):\n",
        "    self.__name=name\n",
        "    self.__sides=sides\n",
        "  def Sides(self):\n",
        "    return (f\"{self.__name}'s number of sides are: {self.__sides}\")\n",
        "class Shape1(Shapes):\n",
        "  pass\n",
        "class Shape2(Shapes):\n",
        "  pass\n",
        "class Shape3(Shapes):\n",
        "  pass\n",
        "class Shape4(Shapes):\n",
        "  pass\n",
        "class Shape5(Shapes):\n",
        "  pass\n",
        "\n",
        "shp1=Shape1(\"Triangle\",3)\n",
        "print(shp1.Sides())\n",
        "shp2=Shape2(\"Quadrilateral\",4)\n",
        "print(shp2.Sides())\n",
        "shp3=Shape3(\"Pentagon\",5)\n",
        "print(shp3.Sides())\n",
        "shp4=Shape4(\"Hexagon\",6)\n",
        "print(shp4.Sides())\n",
        "shp5=Shape5(\"Heptagon\",7)\n",
        "print(shp5.Sides())"
      ]
    }
  ]
}