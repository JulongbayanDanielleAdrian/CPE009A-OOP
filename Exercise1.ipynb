{
  "nbformat": 4,
  "nbformat_minor": 0,
  "metadata": {
    "colab": {
      "provenance": [],
      "authorship_tag": "ABX9TyN9fSBaDPzlwmmKZQe8gPy0",
      "include_colab_link": true
    },
    "kernelspec": {
      "name": "python3",
      "display_name": "Python 3"
    },
    "language_info": {
      "name": "python"
    }
  },
  "cells": [
    {
      "cell_type": "markdown",
      "metadata": {
        "id": "view-in-github",
        "colab_type": "text"
      },
      "source": [
        "<a href=\"https://colab.research.google.com/github/qdaajulongbayan01/CPE009A-OOP/blob/main/Exercise1.ipynb\" target=\"_parent\"><img src=\"https://colab.research.google.com/assets/colab-badge.svg\" alt=\"Open In Colab\"/></a>"
      ]
    },
    {
      "cell_type": "markdown",
      "source": [
        "# **Algorithm to get the perimeter and area of a rectangle**"
      ],
      "metadata": {
        "id": "hHofvOJJTdG2"
      }
    },
    {
      "cell_type": "markdown",
      "source": [
        "1. Start\n",
        "2. Input Length, Width\n",
        "3. Calculate perimeter = 2*length + 2*width\n",
        "4. Calculate area = length*width\n",
        "5. Output length,width\n",
        "6. End"
      ],
      "metadata": {
        "id": "KScGXnz7VaCu"
      }
    },
    {
      "cell_type": "code",
      "execution_count": null,
      "metadata": {
        "colab": {
          "base_uri": "https://localhost:8080/"
        },
        "id": "FtfjxQJ8TboQ",
        "outputId": "c2125500-eeae-4ce5-e17f-a4ec19b82d72"
      },
      "outputs": [
        {
          "output_type": "stream",
          "name": "stdout",
          "text": [
            "Input the rectangle's length: 69\n",
            "Input the rectangle's width: 96\n",
            "The perimeter of the rectangle is: 330.0\n",
            "The area of the rectangle is: 6624.0\n"
          ]
        }
      ],
      "source": [
        "length=int(input(\"Input the rectangle's length: \"))\n",
        "width=int(input(\"Input the rectangle's width: \"))\n",
        "perimeter=float((2*length)+(2*width))\n",
        "area=float(length*width)\n",
        "print(\"The perimeter of the rectangle is: \"+str(perimeter))\n",
        "print(\"The area of the rectangle is: \"+str(area))"
      ]
    }
  ]
}